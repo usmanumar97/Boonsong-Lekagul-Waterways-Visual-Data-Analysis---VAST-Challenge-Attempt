{
 "cells": [
  {
   "cell_type": "code",
   "execution_count": null,
   "id": "c8c3b77a",
   "metadata": {},
   "outputs": [],
   "source": [
    "import altair as alt\n",
    "import pandas as pd\n",
    "import datetime\n",
    "import numpy as np\n",
    "\n",
    "alt.data_transformers.disable_max_rows()"
   ]
  },
  {
   "cell_type": "markdown",
   "id": "447e8e41",
   "metadata": {},
   "source": [
    "# QUESTION 1"
   ]
  },
  {
   "cell_type": "code",
   "execution_count": null,
   "id": "714a92bf",
   "metadata": {},
   "outputs": [],
   "source": [
    "df = pd.read_csv('BoonsongLekagulwaterways.csv')"
   ]
  },
  {
   "cell_type": "code",
   "execution_count": null,
   "id": "bc4d058c",
   "metadata": {},
   "outputs": [],
   "source": [
    "df.head()"
   ]
  },
  {
   "cell_type": "code",
   "execution_count": null,
   "id": "90c010e3",
   "metadata": {},
   "outputs": [],
   "source": [
    "df.shape"
   ]
  },
  {
   "cell_type": "markdown",
   "id": "d7474f4b",
   "metadata": {},
   "source": [
    "## Finding 1.1"
   ]
  },
  {
   "cell_type": "code",
   "execution_count": null,
   "id": "3e8f75e8",
   "metadata": {},
   "outputs": [],
   "source": [
    "df.head()"
   ]
  },
  {
   "cell_type": "code",
   "execution_count": null,
   "id": "99899d10",
   "metadata": {},
   "outputs": [],
   "source": [
    "# Calculate the interquartile range (IQR) and define the upper and lower bounds for outliers\n",
    "Q1 = df['value'].quantile(0.25)\n",
    "Q3 = df['value'].quantile(0.75)\n",
    "IQR = Q3 - Q1\n",
    "lower_bound = Q1 - 1.5 * IQR\n",
    "upper_bound = Q3 + 1.5 * IQR\n",
    "\n",
    "df_outliers = df[(df['value'] < lower_bound) | (df['value'] > upper_bound)]\n",
    "num_outliers = len(df) - len(df_outliers)\n",
    "num_outliers = len(df_outliers)\n",
    "df_outliers = df[(df['value'] < lower_bound) | (df['value'] > upper_bound)]\n",
    "num_outliers = len(df_outliers)"
   ]
  },
  {
   "cell_type": "code",
   "execution_count": null,
   "id": "0d26e516",
   "metadata": {},
   "outputs": [],
   "source": [
    "# Create a list of measures for the dropdown menu\n",
    "measures = list(df['measure'].unique())\n",
    "\n",
    "# Define the dropdown menu\n",
    "dropdown = alt.binding_select(options=measures)\n",
    "select_measure = alt.selection_single(fields=['measure'], bind=dropdown, name='Select', init={'measure': 'Magnesium'})\n",
    "\n",
    "# Plot the number of outliers using Altair\n",
    "chart1 = alt.Chart(pd.DataFrame({'Outliers': [num_outliers]})).mark_bar().encode(\n",
    "    x=alt.X('Outliers:Q', title='Number of Outliers'),\n",
    "    y=alt.Y(),\n",
    "    tooltip=[alt.Tooltip('Outliers', title='Number of Outliers')]\n",
    ").properties(\n",
    "    title='Number of Outliers in Data',\n",
    ")\n",
    "\n",
    "# Create the scatter plot of the outliers with the dropdown menu\n",
    "chart2 = alt.Chart(df_outliers).mark_circle().encode(\n",
    "    x='location',\n",
    "    y=alt.Y('value:Q', title='Value'),\n",
    "    color=alt.condition(select_measure, 'measure', alt.value('lightgray')),\n",
    "    tooltip=['id', 'value', 'location', 'measure']\n",
    ").add_selection(\n",
    "    select_measure\n",
    ").transform_filter(\n",
    "    select_measure\n",
    ").properties(\n",
    "    title='Scatter Plot of Outliers',\n",
    "    height=300,\n",
    "    width=200\n",
    ")\n",
    "\n",
    "# Combine the two charts and display\n",
    "(chart1).display()\n",
    "(chart2).display()\n"
   ]
  },
  {
   "cell_type": "code",
   "execution_count": null,
   "id": "e609d5d5",
   "metadata": {},
   "outputs": [],
   "source": [
    "outlier_counts = df_outliers.groupby('measure')['value'].count().reset_index(name='count')\n",
    "chart = alt.Chart(outlier_counts).mark_bar().encode(\n",
    "    x='measure:N',\n",
    "    y='count:Q',\n",
    "    tooltip=[alt.Tooltip('count:Q', title='Number of Outliers')]\n",
    ").properties(\n",
    "    title='Number of Outliers by Chemical',\n",
    "    width=400,\n",
    "    height=300\n",
    ")\n",
    "\n",
    "chart.display()"
   ]
  },
  {
   "cell_type": "code",
   "execution_count": null,
   "id": "7ef1ec86",
   "metadata": {},
   "outputs": [],
   "source": [
    "df1 = df.copy()"
   ]
  },
  {
   "cell_type": "code",
   "execution_count": null,
   "id": "3ab05db3",
   "metadata": {},
   "outputs": [],
   "source": [
    "df2 = df1.copy()"
   ]
  },
  {
   "cell_type": "code",
   "execution_count": null,
   "id": "0c5be633",
   "metadata": {},
   "outputs": [],
   "source": [
    "df2['sample date']=pd.to_datetime(df2['sample date'])\n",
    "df2['year']=df2['sample date'].dt.year\n",
    "df2['month']=df2['sample date'].dt.month\n",
    "df2['day'] = df2['sample date'].dt.day\n",
    "df2.head()"
   ]
  },
  {
   "cell_type": "markdown",
   "id": "dfb8b351",
   "metadata": {},
   "source": [
    "## Finding 1.2"
   ]
  },
  {
   "cell_type": "code",
   "execution_count": null,
   "id": "e6cad435",
   "metadata": {},
   "outputs": [],
   "source": [
    "chart_width = 1000\n",
    "chart_height = 300\n",
    "chart_title = 'Observations Count per Location from 1998 to 2016'\n",
    "\n",
    "base = alt.Chart(df2).transform_aggregate(\n",
    "    measure='count()',\n",
    "    groupby=['location', 'year']\n",
    ").encode(\n",
    "    x=alt.X('year:O', scale=alt.Scale(paddingInner=0.05)),\n",
    "    y=alt.Y('location:N', scale=alt.Scale(paddingInner=0.05))\n",
    ")\n",
    "\n",
    "heatmap = base.mark_rect().encode(\n",
    "    color=alt.Color('measure:Q',\n",
    "                    scale=alt.Scale(scheme='greens'),\n",
    "                    legend=alt.Legend(direction='horizontal')),\n",
    "    tooltip=['year', 'location', 'measure']\n",
    ")\n",
    "\n",
    "text = base.mark_text(align='left').encode(\n",
    "    text='measure:Q',\n",
    "    color=alt.condition(\n",
    "        alt.datum.measure > 500,\n",
    "        alt.value('black'),\n",
    "        alt.value('red')\n",
    "    )\n",
    ")\n",
    "\n",
    "combined_chart = (heatmap + text).properties(\n",
    "    width=chart_width,\n",
    "    height=chart_height,\n",
    "    title=chart_title\n",
    ")\n",
    "\n",
    "combined_chart"
   ]
  },
  {
   "cell_type": "code",
   "execution_count": null,
   "id": "3cdef6df",
   "metadata": {},
   "outputs": [],
   "source": []
  },
  {
   "cell_type": "code",
   "execution_count": null,
   "id": "21820852",
   "metadata": {},
   "outputs": [],
   "source": []
  },
  {
   "cell_type": "markdown",
   "id": "e7e28c1b",
   "metadata": {},
   "source": [
    "# QUESTION 2"
   ]
  },
  {
   "cell_type": "code",
   "execution_count": null,
   "id": "0f487c79",
   "metadata": {},
   "outputs": [],
   "source": [
    "df2.head(0)"
   ]
  },
  {
   "cell_type": "code",
   "execution_count": null,
   "id": "d2c13494",
   "metadata": {},
   "outputs": [],
   "source": [
    "df3 = df2.copy()"
   ]
  },
  {
   "cell_type": "markdown",
   "id": "b6aa3761",
   "metadata": {},
   "source": [
    "## Finding 2.1"
   ]
  },
  {
   "cell_type": "code",
   "execution_count": null,
   "id": "053200aa",
   "metadata": {},
   "outputs": [],
   "source": [
    "# DROPDOWN FEATURE CREATION\n",
    "default_measure = 'Petroleum hydrocarbons'\n",
    "input_features_dropdown = alt.binding_select(options=df3['measure'].unique().tolist(), name='measure')\n",
    "selection = alt.selection_single(fields=['measure'], bind=input_features_dropdown, init={'measure': default_measure})\n",
    "\n",
    "# Create the trend chart with a dropdown feature\n",
    "chart = alt.Chart(df3).mark_line().encode(\n",
    "    x=alt.X('year:O', title=\"Year\"),\n",
    "    y=alt.Y('mean(value):Q', title=\"Mean of Values\"),\n",
    "    color=alt.Color('location:N', scale=alt.Scale(scheme=\"rainbow\"), legend=alt.Legend(title=\"Location\")),\n",
    "    tooltip=['year', 'location', 'mean(value)'],\n",
    ").properties(\n",
    "    title=\"Contamination trend across all measures in different locations\",\n",
    "    width=700,\n",
    "    height=500,\n",
    ").add_selection(selection).transform_filter(selection)\n",
    "\n",
    "chart.display()\n"
   ]
  },
  {
   "cell_type": "code",
   "execution_count": null,
   "id": "baa557a0",
   "metadata": {},
   "outputs": [],
   "source": [
    "df['sample date'] = pd.to_datetime(df['sample date'])\n",
    "df_monthly = df.groupby(['location', 'measure', pd.Grouper(key='sample date', freq='M')])['value'].mean().reset_index()\n",
    "df_monthly['change_rate'] = df_monthly['value'].pct_change()\n",
    "\n",
    "# dropping rows with the value of inf in the change_rate column\n",
    "df_monthly = df_monthly.replace([np.inf, -np.inf], np.nan)\n",
    "df_monthly = df_monthly.dropna()\n",
    "\n",
    "df_monthly[df_monthly['change_rate'] > 10]['measure'].unique()"
   ]
  },
  {
   "cell_type": "markdown",
   "id": "0b80f879",
   "metadata": {},
   "source": [
    "## Finding 2.2"
   ]
  },
  {
   "cell_type": "code",
   "execution_count": null,
   "id": "f2cdcb94",
   "metadata": {},
   "outputs": [],
   "source": [
    "# Define default value for dropdown feature\n",
    "default_feature = 'Water temperature'\n",
    "\n",
    "# DROPDOWN FEATURE CREATION\n",
    "input_features_dropdown = alt.binding_select(options=df3['measure'].unique().tolist(), name='measure')\n",
    "selection = alt.selection_single(fields=['measure'], bind=input_features_dropdown, name='Select', init={'measure': default_feature})\n",
    "\n",
    "# Filter the data based on the selected measure\n",
    "df_measure = df3[df3['measure'] == selection['measure']]\n",
    "\n",
    "# Creating the trend chart\n",
    "contamination_trend_line = alt.Chart(df_measure).mark_line(point=alt.OverlayMarkDef(color=\"red\")).encode(\n",
    "    x='year',\n",
    "    y='mean(value):Q',\n",
    "    tooltip=['location', 'year', 'mean(value):Q']\n",
    ").properties(width=750, height=100, title=alt.TitleParams(text= 'Trend Over Years'))\n",
    "\n",
    "annotation = alt.Chart(df_measure).mark_text(\n",
    "    align='center', baseline='line-bottom', fontSize=11, dx=1\n",
    ").encode(\n",
    "    x=alt.X('year'),\n",
    "    y=alt.Y('mean(value):Q'),\n",
    "    text=alt.Text('mean(value):O', format='.1f')\n",
    ")\n",
    "\n",
    "chart = alt.layer(contamination_trend_line, annotation, data=df_measure).facet(row='location')\n",
    "\n",
    "chart = chart.add_selection(selection).transform_filter(selection)\n",
    "\n",
    "chart.display()\n"
   ]
  }
 ],
 "metadata": {
  "kernelspec": {
   "display_name": "Python 3 (ipykernel)",
   "language": "python",
   "name": "python3"
  },
  "language_info": {
   "codemirror_mode": {
    "name": "ipython",
    "version": 3
   },
   "file_extension": ".py",
   "mimetype": "text/x-python",
   "name": "python",
   "nbconvert_exporter": "python",
   "pygments_lexer": "ipython3",
   "version": "3.10.9"
  }
 },
 "nbformat": 4,
 "nbformat_minor": 5
}
